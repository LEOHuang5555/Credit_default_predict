{
 "cells": [
  {
   "cell_type": "code",
   "execution_count": 1,
   "metadata": {},
   "outputs": [],
   "source": [
    "import tensorflow as tf\n",
    "import pandas as pd\n",
    "import numpy as np\n",
    "import matplotlib.pyplot as plt\n",
    "import seaborn as sns\n",
    "import sqlite3\n",
    "import random\n",
    "from sklearn.metrics import roc_curve, roc_auc_score, auc, confusion_matrix\n"
   ]
  },
  {
   "cell_type": "code",
   "execution_count": 2,
   "metadata": {},
   "outputs": [
    {
     "data": {
      "text/html": [
       "<div>\n",
       "<style scoped>\n",
       "    .dataframe tbody tr th:only-of-type {\n",
       "        vertical-align: middle;\n",
       "    }\n",
       "\n",
       "    .dataframe tbody tr th {\n",
       "        vertical-align: top;\n",
       "    }\n",
       "\n",
       "    .dataframe thead th {\n",
       "        text-align: right;\n",
       "    }\n",
       "</style>\n",
       "<table border=\"1\" class=\"dataframe\">\n",
       "  <thead>\n",
       "    <tr style=\"text-align: right;\">\n",
       "      <th></th>\n",
       "      <th>A105</th>\n",
       "      <th>A106</th>\n",
       "      <th>A116</th>\n",
       "      <th>A401</th>\n",
       "      <th>A509</th>\n",
       "      <th>A511</th>\n",
       "      <th>A517</th>\n",
       "      <th>A519</th>\n",
       "      <th>A609</th>\n",
       "      <th>A611</th>\n",
       "      <th>...</th>\n",
       "      <th>R906</th>\n",
       "      <th>SUD1</th>\n",
       "      <th>T310</th>\n",
       "      <th>XCNL</th>\n",
       "      <th>XCPA</th>\n",
       "      <th>XCTL</th>\n",
       "      <th>XGRP</th>\n",
       "      <th>XMTG</th>\n",
       "      <th>XPYR</th>\n",
       "      <th>是否違約</th>\n",
       "    </tr>\n",
       "  </thead>\n",
       "  <tbody>\n",
       "    <tr>\n",
       "      <th>0</th>\n",
       "      <td>0.155906</td>\n",
       "      <td>0.010461</td>\n",
       "      <td>-0.401397</td>\n",
       "      <td>-0.046266</td>\n",
       "      <td>0.334499</td>\n",
       "      <td>-0.142139</td>\n",
       "      <td>-0.087050</td>\n",
       "      <td>0.294049</td>\n",
       "      <td>-0.404180</td>\n",
       "      <td>-0.013853</td>\n",
       "      <td>...</td>\n",
       "      <td>1.216554</td>\n",
       "      <td>0.150698</td>\n",
       "      <td>2.683424</td>\n",
       "      <td>-0.377492</td>\n",
       "      <td>-0.135021</td>\n",
       "      <td>-1.164123</td>\n",
       "      <td>-0.662574</td>\n",
       "      <td>-0.795279</td>\n",
       "      <td>-0.114314</td>\n",
       "      <td>0.0</td>\n",
       "    </tr>\n",
       "    <tr>\n",
       "      <th>1</th>\n",
       "      <td>0.082568</td>\n",
       "      <td>0.010461</td>\n",
       "      <td>-0.430237</td>\n",
       "      <td>0.006949</td>\n",
       "      <td>0.437604</td>\n",
       "      <td>-0.142139</td>\n",
       "      <td>-0.090957</td>\n",
       "      <td>0.392044</td>\n",
       "      <td>-0.412637</td>\n",
       "      <td>-0.014003</td>\n",
       "      <td>...</td>\n",
       "      <td>1.443770</td>\n",
       "      <td>0.205122</td>\n",
       "      <td>2.886790</td>\n",
       "      <td>2.649062</td>\n",
       "      <td>-0.135021</td>\n",
       "      <td>-1.145749</td>\n",
       "      <td>1.423786</td>\n",
       "      <td>-0.795279</td>\n",
       "      <td>-0.114314</td>\n",
       "      <td>0.0</td>\n",
       "    </tr>\n",
       "    <tr>\n",
       "      <th>2</th>\n",
       "      <td>0.096319</td>\n",
       "      <td>0.010461</td>\n",
       "      <td>-0.427540</td>\n",
       "      <td>-0.012908</td>\n",
       "      <td>0.707057</td>\n",
       "      <td>-0.142139</td>\n",
       "      <td>-0.090957</td>\n",
       "      <td>0.648142</td>\n",
       "      <td>-0.415240</td>\n",
       "      <td>-0.014008</td>\n",
       "      <td>...</td>\n",
       "      <td>1.300948</td>\n",
       "      <td>0.259546</td>\n",
       "      <td>3.034055</td>\n",
       "      <td>2.649062</td>\n",
       "      <td>-0.135021</td>\n",
       "      <td>-1.145749</td>\n",
       "      <td>1.423786</td>\n",
       "      <td>-0.795279</td>\n",
       "      <td>-0.114314</td>\n",
       "      <td>0.0</td>\n",
       "    </tr>\n",
       "    <tr>\n",
       "      <th>3</th>\n",
       "      <td>0.371911</td>\n",
       "      <td>0.010463</td>\n",
       "      <td>-0.363939</td>\n",
       "      <td>-0.065520</td>\n",
       "      <td>1.092298</td>\n",
       "      <td>-0.142139</td>\n",
       "      <td>-0.065388</td>\n",
       "      <td>1.014289</td>\n",
       "      <td>-0.418615</td>\n",
       "      <td>-0.013812</td>\n",
       "      <td>...</td>\n",
       "      <td>1.239275</td>\n",
       "      <td>0.313970</td>\n",
       "      <td>3.041067</td>\n",
       "      <td>2.649062</td>\n",
       "      <td>-0.135021</td>\n",
       "      <td>-0.358445</td>\n",
       "      <td>1.771513</td>\n",
       "      <td>-0.795279</td>\n",
       "      <td>-0.114314</td>\n",
       "      <td>0.0</td>\n",
       "    </tr>\n",
       "    <tr>\n",
       "      <th>4</th>\n",
       "      <td>0.568435</td>\n",
       "      <td>0.010464</td>\n",
       "      <td>-0.386761</td>\n",
       "      <td>-0.014787</td>\n",
       "      <td>1.312830</td>\n",
       "      <td>-0.142139</td>\n",
       "      <td>-0.026679</td>\n",
       "      <td>1.223891</td>\n",
       "      <td>-0.421827</td>\n",
       "      <td>-0.013747</td>\n",
       "      <td>...</td>\n",
       "      <td>0.950386</td>\n",
       "      <td>0.368394</td>\n",
       "      <td>3.181319</td>\n",
       "      <td>2.649062</td>\n",
       "      <td>-0.135021</td>\n",
       "      <td>-0.358445</td>\n",
       "      <td>1.771513</td>\n",
       "      <td>-0.795279</td>\n",
       "      <td>-0.114314</td>\n",
       "      <td>0.0</td>\n",
       "    </tr>\n",
       "    <tr>\n",
       "      <th>...</th>\n",
       "      <td>...</td>\n",
       "      <td>...</td>\n",
       "      <td>...</td>\n",
       "      <td>...</td>\n",
       "      <td>...</td>\n",
       "      <td>...</td>\n",
       "      <td>...</td>\n",
       "      <td>...</td>\n",
       "      <td>...</td>\n",
       "      <td>...</td>\n",
       "      <td>...</td>\n",
       "      <td>...</td>\n",
       "      <td>...</td>\n",
       "      <td>...</td>\n",
       "      <td>...</td>\n",
       "      <td>...</td>\n",
       "      <td>...</td>\n",
       "      <td>...</td>\n",
       "      <td>...</td>\n",
       "      <td>...</td>\n",
       "      <td>...</td>\n",
       "    </tr>\n",
       "    <tr>\n",
       "      <th>9143</th>\n",
       "      <td>-0.156928</td>\n",
       "      <td>0.010463</td>\n",
       "      <td>-0.490901</td>\n",
       "      <td>0.478554</td>\n",
       "      <td>0.136572</td>\n",
       "      <td>-0.142139</td>\n",
       "      <td>-0.015670</td>\n",
       "      <td>0.105932</td>\n",
       "      <td>-0.307407</td>\n",
       "      <td>-0.014542</td>\n",
       "      <td>...</td>\n",
       "      <td>2.154632</td>\n",
       "      <td>2.037036</td>\n",
       "      <td>-0.689642</td>\n",
       "      <td>-0.377492</td>\n",
       "      <td>-0.135021</td>\n",
       "      <td>-0.840627</td>\n",
       "      <td>-0.662574</td>\n",
       "      <td>0.733134</td>\n",
       "      <td>-0.114314</td>\n",
       "      <td>0.0</td>\n",
       "    </tr>\n",
       "    <tr>\n",
       "      <th>9144</th>\n",
       "      <td>-0.344858</td>\n",
       "      <td>0.010462</td>\n",
       "      <td>-0.457150</td>\n",
       "      <td>0.083593</td>\n",
       "      <td>-0.017524</td>\n",
       "      <td>-0.142139</td>\n",
       "      <td>-0.028100</td>\n",
       "      <td>-0.040526</td>\n",
       "      <td>-0.276993</td>\n",
       "      <td>-0.014539</td>\n",
       "      <td>...</td>\n",
       "      <td>2.719427</td>\n",
       "      <td>2.091460</td>\n",
       "      <td>-0.331999</td>\n",
       "      <td>-0.377492</td>\n",
       "      <td>-0.135021</td>\n",
       "      <td>-0.770471</td>\n",
       "      <td>-0.662574</td>\n",
       "      <td>1.602591</td>\n",
       "      <td>-0.114314</td>\n",
       "      <td>0.0</td>\n",
       "    </tr>\n",
       "    <tr>\n",
       "      <th>9145</th>\n",
       "      <td>-0.003949</td>\n",
       "      <td>0.010462</td>\n",
       "      <td>-0.603419</td>\n",
       "      <td>0.127576</td>\n",
       "      <td>0.538983</td>\n",
       "      <td>-0.142139</td>\n",
       "      <td>0.018066</td>\n",
       "      <td>0.488398</td>\n",
       "      <td>-0.265120</td>\n",
       "      <td>-0.014546</td>\n",
       "      <td>...</td>\n",
       "      <td>1.346392</td>\n",
       "      <td>2.145884</td>\n",
       "      <td>0.095770</td>\n",
       "      <td>-0.377492</td>\n",
       "      <td>-0.135021</td>\n",
       "      <td>-0.770471</td>\n",
       "      <td>-0.662574</td>\n",
       "      <td>1.661794</td>\n",
       "      <td>-0.114314</td>\n",
       "      <td>0.0</td>\n",
       "    </tr>\n",
       "    <tr>\n",
       "      <th>9146</th>\n",
       "      <td>-0.205056</td>\n",
       "      <td>0.010462</td>\n",
       "      <td>-0.425229</td>\n",
       "      <td>0.115165</td>\n",
       "      <td>0.206028</td>\n",
       "      <td>-0.142139</td>\n",
       "      <td>0.074176</td>\n",
       "      <td>0.171945</td>\n",
       "      <td>-0.266991</td>\n",
       "      <td>-0.014547</td>\n",
       "      <td>...</td>\n",
       "      <td>1.924170</td>\n",
       "      <td>2.200308</td>\n",
       "      <td>0.502502</td>\n",
       "      <td>-0.377492</td>\n",
       "      <td>-0.135021</td>\n",
       "      <td>-0.978711</td>\n",
       "      <td>-0.662574</td>\n",
       "      <td>1.668944</td>\n",
       "      <td>-0.114314</td>\n",
       "      <td>1.0</td>\n",
       "    </tr>\n",
       "    <tr>\n",
       "      <th>9147</th>\n",
       "      <td>-0.920679</td>\n",
       "      <td>0.010456</td>\n",
       "      <td>0.018294</td>\n",
       "      <td>-0.113400</td>\n",
       "      <td>-0.543229</td>\n",
       "      <td>-0.142139</td>\n",
       "      <td>-0.125404</td>\n",
       "      <td>-0.540176</td>\n",
       "      <td>-0.426462</td>\n",
       "      <td>-0.014545</td>\n",
       "      <td>...</td>\n",
       "      <td>0.340148</td>\n",
       "      <td>2.023430</td>\n",
       "      <td>-0.696655</td>\n",
       "      <td>-0.377492</td>\n",
       "      <td>-0.135021</td>\n",
       "      <td>-1.120693</td>\n",
       "      <td>-0.662574</td>\n",
       "      <td>-0.795279</td>\n",
       "      <td>-0.114314</td>\n",
       "      <td>0.0</td>\n",
       "    </tr>\n",
       "  </tbody>\n",
       "</table>\n",
       "<p>9148 rows × 115 columns</p>\n",
       "</div>"
      ],
      "text/plain": [
       "          A105      A106      A116      A401      A509      A511      A517   \n",
       "0     0.155906  0.010461 -0.401397 -0.046266  0.334499 -0.142139 -0.087050  \\\n",
       "1     0.082568  0.010461 -0.430237  0.006949  0.437604 -0.142139 -0.090957   \n",
       "2     0.096319  0.010461 -0.427540 -0.012908  0.707057 -0.142139 -0.090957   \n",
       "3     0.371911  0.010463 -0.363939 -0.065520  1.092298 -0.142139 -0.065388   \n",
       "4     0.568435  0.010464 -0.386761 -0.014787  1.312830 -0.142139 -0.026679   \n",
       "...        ...       ...       ...       ...       ...       ...       ...   \n",
       "9143 -0.156928  0.010463 -0.490901  0.478554  0.136572 -0.142139 -0.015670   \n",
       "9144 -0.344858  0.010462 -0.457150  0.083593 -0.017524 -0.142139 -0.028100   \n",
       "9145 -0.003949  0.010462 -0.603419  0.127576  0.538983 -0.142139  0.018066   \n",
       "9146 -0.205056  0.010462 -0.425229  0.115165  0.206028 -0.142139  0.074176   \n",
       "9147 -0.920679  0.010456  0.018294 -0.113400 -0.543229 -0.142139 -0.125404   \n",
       "\n",
       "          A519      A609      A611  ...      R906      SUD1      T310   \n",
       "0     0.294049 -0.404180 -0.013853  ...  1.216554  0.150698  2.683424  \\\n",
       "1     0.392044 -0.412637 -0.014003  ...  1.443770  0.205122  2.886790   \n",
       "2     0.648142 -0.415240 -0.014008  ...  1.300948  0.259546  3.034055   \n",
       "3     1.014289 -0.418615 -0.013812  ...  1.239275  0.313970  3.041067   \n",
       "4     1.223891 -0.421827 -0.013747  ...  0.950386  0.368394  3.181319   \n",
       "...        ...       ...       ...  ...       ...       ...       ...   \n",
       "9143  0.105932 -0.307407 -0.014542  ...  2.154632  2.037036 -0.689642   \n",
       "9144 -0.040526 -0.276993 -0.014539  ...  2.719427  2.091460 -0.331999   \n",
       "9145  0.488398 -0.265120 -0.014546  ...  1.346392  2.145884  0.095770   \n",
       "9146  0.171945 -0.266991 -0.014547  ...  1.924170  2.200308  0.502502   \n",
       "9147 -0.540176 -0.426462 -0.014545  ...  0.340148  2.023430 -0.696655   \n",
       "\n",
       "          XCNL      XCPA      XCTL      XGRP      XMTG      XPYR  是否違約  \n",
       "0    -0.377492 -0.135021 -1.164123 -0.662574 -0.795279 -0.114314   0.0  \n",
       "1     2.649062 -0.135021 -1.145749  1.423786 -0.795279 -0.114314   0.0  \n",
       "2     2.649062 -0.135021 -1.145749  1.423786 -0.795279 -0.114314   0.0  \n",
       "3     2.649062 -0.135021 -0.358445  1.771513 -0.795279 -0.114314   0.0  \n",
       "4     2.649062 -0.135021 -0.358445  1.771513 -0.795279 -0.114314   0.0  \n",
       "...        ...       ...       ...       ...       ...       ...   ...  \n",
       "9143 -0.377492 -0.135021 -0.840627 -0.662574  0.733134 -0.114314   0.0  \n",
       "9144 -0.377492 -0.135021 -0.770471 -0.662574  1.602591 -0.114314   0.0  \n",
       "9145 -0.377492 -0.135021 -0.770471 -0.662574  1.661794 -0.114314   0.0  \n",
       "9146 -0.377492 -0.135021 -0.978711 -0.662574  1.668944 -0.114314   1.0  \n",
       "9147 -0.377492 -0.135021 -1.120693 -0.662574 -0.795279 -0.114314   0.0  \n",
       "\n",
       "[9148 rows x 115 columns]"
      ]
     },
     "execution_count": 2,
     "metadata": {},
     "output_type": "execute_result"
    }
   ],
   "source": [
    "conn = sqlite3.connect('data_std.db')\n",
    "scripts = '''select * from credit_default_pred'''\n",
    "data_std = pd.read_sql(scripts, conn)\n",
    "data_std"
   ]
  },
  {
   "cell_type": "code",
   "execution_count": 3,
   "metadata": {},
   "outputs": [
    {
     "data": {
      "text/plain": [
       "121"
      ]
     },
     "execution_count": 3,
     "metadata": {},
     "output_type": "execute_result"
    }
   ],
   "source": [
    "len(np.where(data_std['是否違約']==1)[0])"
   ]
  },
  {
   "attachments": {},
   "cell_type": "markdown",
   "metadata": {},
   "source": [
    "## Train/Test Split\n",
    "- Test/Train ratio = 0.7"
   ]
  },
  {
   "cell_type": "code",
   "execution_count": 4,
   "metadata": {},
   "outputs": [],
   "source": [
    "from sklearn.model_selection import train_test_split\n",
    "X = data_std.loc[:,data_std.columns.difference(['是否違約'])]\n",
    "y = data_std['是否違約']\n",
    "X_train, X_test, y_train, y_test = train_test_split(X, y, test_size=0.3, random_state=42)"
   ]
  },
  {
   "cell_type": "code",
   "execution_count": 5,
   "metadata": {},
   "outputs": [
    {
     "data": {
      "text/plain": [
       "82"
      ]
     },
     "execution_count": 5,
     "metadata": {},
     "output_type": "execute_result"
    }
   ],
   "source": [
    "len(np.where(y_train==1)[0])"
   ]
  },
  {
   "attachments": {},
   "cell_type": "markdown",
   "metadata": {},
   "source": [
    "## 重複抽樣 + Few shot learning\n",
    "本研究採用bagging的方式來建立MLP模型<br>\n",
    "bagging->組合不同樣本訓練出來的模型後，再將預測值取平均<br>\n",
    "違約資料有樣本不平衡之問題(1僅占樣本的1%)，重複抽樣的方式還需穩定每組樣本0和1之比例(固定70%/30%)<br>\n"
   ]
  },
  {
   "cell_type": "code",
   "execution_count": 62,
   "metadata": {},
   "outputs": [],
   "source": [
    "# 產生亂數組\n",
    "n_task = 100\n",
    "n_meta_update = 100\n",
    "seed_sets = np.zeros((n_meta_update, n_task))\n",
    "for i in range(n_meta_update):\n",
    "    seeds = np.random.choice(10000000, n_task)\n",
    "    seed_sets[i] = seeds\n",
    "np.save('seed_sets.npy', seed_sets)"
   ]
  },
  {
   "cell_type": "code",
   "execution_count": 63,
   "metadata": {},
   "outputs": [],
   "source": [
    "# 讀取預先製作的亂數組\n",
    "seed_sets = np.load('seed_sets.npy')\n",
    "val_seed_sets = np.load('val_seed_sets.npy')\n",
    "seed_sets = seed_sets.astype(int)\n",
    "val_seed_sets = val_seed_sets.astype(int)"
   ]
  },
  {
   "cell_type": "code",
   "execution_count": 33,
   "metadata": {},
   "outputs": [],
   "source": [
    "class Credit_Maml:\n",
    "    def __init__(self, train_X:np.ndarray, train_y:np.ndarray, n_meta_update:int=1, n_task:int=100, ways:list=[0,1], n_shots:int=5) -> None:\n",
    "        self.n_meta_update = n_meta_update\n",
    "        self.n_task = n_task\n",
    "        self.ways = ways\n",
    "        self.n_ways = len(ways)\n",
    "        self.n_shots = n_shots\n",
    "        self.train_X = train_X\n",
    "        self.train_y = train_y\n",
    "        self.seed_series = self.create_random_seeds('seed_sets')\n",
    "        self.val_seed_series = self.create_random_seeds('val_seed_sets')\n",
    "       \n",
    "\n",
    "\n",
    "    def create_random_seeds(self, file_name):\n",
    "        seed_sets = np.zeros((self.n_meta_update, self.n_task))\n",
    "        for i in range(self.n_meta_update):\n",
    "            seeds = np.random.choice(self.train_X.shape[0], self.n_task)\n",
    "            seed_sets[i] = seeds\n",
    "        np.save(f'{file_name}.npy', seed_sets)\n",
    "        # 讀取預先製作的亂數組\n",
    "        seed_sets = seed_sets.astype(int)\n",
    "        return seed_sets\n",
    "    \n",
    "    def chose_one_class(self, random_state, way):\n",
    "        # 每個 way 抽出 n_shot 筆資料\n",
    "        np.random.seed(random_state)\n",
    "        rand_index = np.random.choice(np.where(self.train_y==way)[0], self.n_shots)\n",
    "        return self.train_X[rand_index], self.train_y[rand_index]\n",
    "         \n",
    "    \n",
    "    def build_task_sample(self, random_state):\n",
    "        # 建立 task 資料\n",
    "        # train_X = train_X.values\n",
    "        task_x = np.zeros((1, self.n_ways, self.n_shots, *self.train_X.shape[1:]))\n",
    "        task_y = np.zeros((1, self.n_ways, self.n_shots, 1))\n",
    "        for i in range(self.n_ways):\n",
    "            task_x[0][i], task_y[0][i] = self.chose_one_class(random_state, self.ways[i])\n",
    "        return task_x, task_y\n",
    "    \n",
    "    def generate_multiple_tasks(self, seed_series):\n",
    "        # 建立 task set:(n_task, n_ways, n_shot, n_features)\n",
    "        # if type(train_X) is not np.ndarray:\n",
    "        #     train_X = train_X.values\n",
    "        # train_y = tf.keras.utils.to_categorical(train_y, self.n_ways)\n",
    "        task_sets_x = np.zeros((self.n_task, self.n_ways, self.n_shots, *self.train_X.shape[1:]))\n",
    "        task_sets_y = np.zeros((self.n_task, self.n_ways, self.n_shots, 1))\n",
    "        for i in range(self.n_task):\n",
    "            task_sets_x[i], task_sets_y[i] = self.build_task_sample(seed_series[i])\n",
    "        y_to_categorical = tf.keras.utils.to_categorical(task_sets_y, self.n_ways)\n",
    "        # y = np.zeros((self.n_task, self.n_ways, self.n_shots, 1))\n",
    "        # y[:,0,:,:] = [1,0]\n",
    "        # y[:,1,:,:] = [0,1]\n",
    "        return task_sets_x, y_to_categorical\n",
    "    \n",
    "    def create_model(self, n_features):\n",
    "        # 清除背景中沒在使用的 model\n",
    "        tf.keras.backend.clear_session()\n",
    "        # model 為 3 層之 MLP\n",
    "        # set initial weights of model\n",
    "        initializer = tf.keras.initializers.RandomNormal(mean=0., stddev=1.)\n",
    "        model = tf.keras.Sequential()\n",
    "        model.add(tf.keras.layers.Dense(64, input_shape=(self.n_ways, self.n_shots, *n_features), activation='relu', kernel_initializer=initializer))\n",
    "        # model.add(tf.keras.layers.Dropout(0.5))\n",
    "        model.add(tf.keras.layers.Dense(128, activation='relu'))\n",
    "        # model.add(tf.keras.layers.Dropout(0.3))\n",
    "        model.add(tf.keras.layers.Dense(64, activation='relu'))\n",
    "        model.add(tf.keras.layers.Dense(2, activation='softmax'))\n",
    "        # opt = tf.keras.optimizers.Adam()\n",
    "        # model.compile(loss=tf.keras.losses.BinaryCrossentropy(), optimizer=opt, metrics=[tf.keras.metrics.BinaryAccuracy()])\n",
    "        return model\n",
    "    \n",
    "    \n",
    "    def CNN_model(self, n_features):\n",
    "        # 清除背景中沒在使用的 model\n",
    "        tf.keras.backend.clear_session()\n",
    "        initializer = tf.keras.initializers.RandomNormal(mean=0., stddev=1.)\n",
    "        model = tf.keras.Sequential([\n",
    "                tf.keras.layers.Conv2D(32, (3, 3), activation='relu', input_shape=(self.n_ways, self.n_shots, *n_features, 1)),\n",
    "                tf.keras.layers.Conv2D(64, (3, 3), activation='relu'),\n",
    "                # tf.keras.layers.MaxPooling3D((2, 2, 2)),\n",
    "                # tf.keras.layers.Flatten(),\n",
    "                # tf.keras.layers.Dense(64, activation='relu'),\n",
    "                tf.keras.layers.Dense(2, activation='softmax')\n",
    "            ])\n",
    "        return model\n",
    "\n",
    "\n",
    "    def train_step(self, inner_lr=0.001, outer_lr=0.0001, early_stop = 10, select_model = 'MLP'):\n",
    "        best_val_loss = np.inf\n",
    "        best_weights = None\n",
    "        # Create early stopping callback\n",
    "        patience = early_stop\n",
    "        early_stop_counter = 0\n",
    "        history = {'loss': [], 'val_loss': []}\n",
    "        opt_inner = tf.keras.optimizers.Adam(learning_rate=inner_lr)\n",
    "        opt_outer = tf.keras.optimizers.Adam(learning_rate=outer_lr)\n",
    "        if select_model == 'MLP':\n",
    "            model = self.create_model(n_features=self.train_X.shape[1:])\n",
    "        else:\n",
    "            self.train_X = series_to_image(self.train_X, 11)\n",
    "            model = self.CNN_model(n_features=(11,11))\n",
    "            # print(self.train_X.shape)\n",
    "        for i in range(self.n_meta_update):\n",
    "            task_sets, y_true = self.generate_multiple_tasks(self.seed_series[i])\n",
    "            query_sets, y_val_true = self.generate_multiple_tasks(self.val_seed_series[i])\n",
    "            with tf.GradientTape(persistent=True) as outer_tape:\n",
    "                task_loss = 0\n",
    "                task_val_loss = 0\n",
    "                for i in range(task_sets.shape[0]):\n",
    "                    with tf.GradientTape(persistent=True) as inner_tape:\n",
    "                        if select_model =='MLP':\n",
    "                            # 調整維度以符合模型的輸入\n",
    "                            x = task_sets[i].reshape((1, *task_sets[i].shape))\n",
    "                            y = y_true[i].reshape((1, *y_true[i].shape))\n",
    "                            # predict validation sets\n",
    "                            val_X = query_sets[i].reshape((1, *query_sets[i].shape))\n",
    "                            val_y = y_val_true[i].reshape((1, *y_val_true[i].shape))\n",
    "                        else:\n",
    "                            # 調整維度以符合模型的輸入\n",
    "                            x = task_sets[i].reshape((1, *task_sets[i].shape, 1))\n",
    "                            y_mean = tf.reduce_mean(y_true, axis = 1)\n",
    "                            y_mean = tf.reduce_mean(y_mean, axis = 1)\n",
    "                            y = y_mean[i].numpy().reshape((1, *y_mean[i].shape))\n",
    "                            # predict validation sets\n",
    "                            val_X = query_sets[i].reshape((1, *query_sets[i].shape, 1))\n",
    "                            y_val_mean = tf.reduce_mean(y_val_true, axis = 1)\n",
    "                            y_val_mean = tf.reduce_mean(y_val_mean, axis = 1)\n",
    "                            val_y = y_val_mean[i].numpy().reshape((1, *y_val_mean[i].shape))\n",
    "                        y_pred = model(x)\n",
    "                        # 給定預測值(y_pred)和實際值(y)，用以計算loss\n",
    "                        loss = tf.keras.losses.BinaryCrossentropy()(y, y_pred)\n",
    "                        # val_pred = model(val_X)\n",
    "                        \n",
    "                    grads = inner_tape.gradient(loss, model.trainable_variables)\n",
    "                    # updated_weights = [w - inner_lr*g for w, g in zip(model.trainable_variables, grads)]\n",
    "                    opt_inner.apply_gradients(zip(grads, model.trainable_variables))\n",
    "                    # train \n",
    "                    y_pred = model(x, training=True)\n",
    "                    task_loss += tf.keras.losses.BinaryCrossentropy()(y, y_pred)\n",
    "                    # validation predict with newly updated weights\n",
    "                    val_pred = model(val_X)\n",
    "                    task_val_loss += tf.keras.losses.BinaryCrossentropy()(val_y, val_pred)\n",
    "                task_loss /= task_sets.shape[0]\n",
    "                task_val_loss /= task_sets.shape[0]\n",
    "                # Store loss data from both training and validation set\n",
    "                history['loss'].append(task_loss.numpy())\n",
    "                history['val_loss'].append(task_val_loss.numpy())\n",
    "                if not patience:\n",
    "                    if task_val_loss < best_val_loss:\n",
    "                        best_val_loss = task_val_loss\n",
    "                        best_weights = model.get_weights()\n",
    "                        early_stop_counter = 0\n",
    "                    else:\n",
    "                        early_stop_counter += 1\n",
    "                        if early_stop_counter >= patience:\n",
    "                            break\n",
    "\n",
    "            # Create optimizer and compile the model\n",
    "            outer_grads = outer_tape.gradient(task_loss, model.trainable_variables)\n",
    "            opt_outer.apply_gradients(zip(outer_grads, model.trainable_variables))\n",
    "            # updated_weights = [w - outer_lr*g for w, g in zip(model.trainable_variables, outer_grads)]\n",
    "        return model.trainable_variables, history\n",
    "\n",
    "\n",
    "def plot_confusion_matrix(y_train, y_predict):\n",
    "    conf_matrix= confusion_matrix(y_train, y_predict)\n",
    "    LABELS=['Non_Default','Default'] #給出類別名稱\n",
    "    plt.figure(figsize=(8,8))\n",
    "    sns.heatmap(conf_matrix,xticklabels=LABELS, yticklabels=LABELS, annot=True, fmt=\"d\")\n",
    "    plt.title(\"Confusion Matrix\")\n",
    "    plt.ylabel(\"Predicted class\")\n",
    "    plt.xlabel(\"True class\")\n",
    "    plt.show()\n",
    "\n",
    "def series_to_image(train_X:np.ndarray, shape):\n",
    "    input_cnn = np.zeros((train_X.shape[0], shape**2))\n",
    "    fill_empty = np.zeros(shape**2- train_X.shape[1])\n",
    "    for i in range(train_X.shape[0]):\n",
    "        input_cnn[i] = np.append(train_X[i], fill_empty)\n",
    "    input_cnn = input_cnn.reshape((input_cnn.shape[0], shape, shape))\n",
    "    return input_cnn\n",
    "\n",
    "def predit_classes(weights, X, n_data):\n",
    "    def network_dot(n_layers, current_layer, X_val, weights):\n",
    "        output = np.dot(X_val, weights[2*current_layer])+weights[2*(current_layer+1)-1]\n",
    "        if current_layer+1 == n_layers:\n",
    "            return output\n",
    "        return network_dot(n_layers, current_layer+1, output, weights)\n",
    "    layers = (len(weights)//2)+1 if len(weights)%2==1 else len(weights)//2\n",
    "    layer_output = network_dot(layers, current_layer=0, X_val=X, weights=weights)\n",
    "    pred_class = np.argmax(layer_output.numpy(), axis=1)\n",
    "    pred_class = pred_class.reshape((n_data))\n",
    "    return pred_class\n",
    "    "
   ]
  },
  {
   "cell_type": "code",
   "execution_count": 34,
   "metadata": {},
   "outputs": [],
   "source": [
    "credit_pred = Credit_Maml(X_train.values, y_train.values, n_meta_update=50, n_task=100, ways = [0,1], n_shots=1)"
   ]
  },
  {
   "cell_type": "code",
   "execution_count": 8,
   "metadata": {},
   "outputs": [
    {
     "name": "stdout",
     "output_type": "stream",
     "text": [
      "Model: \"sequential\"\n",
      "_________________________________________________________________\n",
      " Layer (type)                Output Shape              Param #   \n",
      "=================================================================\n",
      " conv2d (Conv2D)             (None, 2, 10, 9, 9, 32)   320       \n",
      "                                                                 \n",
      " conv2d_1 (Conv2D)           (None, 2, 10, 7, 7, 64)   18496     \n",
      "                                                                 \n",
      " dense (Dense)               (None, 2, 10, 7, 7, 2)    130       \n",
      "                                                                 \n",
      "=================================================================\n",
      "Total params: 18,946\n",
      "Trainable params: 18,946\n",
      "Non-trainable params: 0\n",
      "_________________________________________________________________\n"
     ]
    }
   ],
   "source": [
    "credit_pred.CNN_model((11,11)).summary()"
   ]
  },
  {
   "cell_type": "code",
   "execution_count": 35,
   "metadata": {},
   "outputs": [
    {
     "data": {
      "text/plain": [
       "((100, 2, 1, 114), (100, 2, 1, 2))"
      ]
     },
     "execution_count": 35,
     "metadata": {},
     "output_type": "execute_result"
    }
   ],
   "source": [
    "# x = series_to_image(X_train, 11)\n",
    "x, y = credit_pred.generate_multiple_tasks(credit_pred.seed_series[0])\n",
    "x.shape, y.shape"
   ]
  },
  {
   "cell_type": "code",
   "execution_count": 38,
   "metadata": {},
   "outputs": [
    {
     "name": "stderr",
     "output_type": "stream",
     "text": [
      "c:\\Users\\2022011702\\Desktop\\Leo\\Credit Default Predict\\.conda\\lib\\site-packages\\numpy\\lib\\npyio.py:521: VisibleDeprecationWarning: Creating an ndarray from ragged nested sequences (which is a list-or-tuple of lists-or-tuples-or ndarrays with different lengths or shapes) is deprecated. If you meant to do this, you must specify 'dtype=object' when creating the ndarray.\n",
      "  arr = np.asanyarray(arr)\n"
     ]
    }
   ],
   "source": [
    "result= {'weights':{}, 'history':{}}\n",
    "for n_task in [10, 50, 100, 300, 500, 1000]:\n",
    "    for n_shots in [1, 2, 5, 10, 30, 50]:\n",
    "        for i in range(30):\n",
    "            credit_pred = Credit_Maml(X_train.values, y_train.values, n_meta_update = 60, n_task = n_task, ways=[0,1], n_shots=n_shots)\n",
    "            new_weight, history = credit_pred.train_step(inner_lr=0.001, outer_lr=1e-4, early_stop=10)\n",
    "            np.save(f'./maml_model/maml_50_iter_{n_task}_tasks_2_ways_{n_shots}_shots_{i}', new_weight)\n",
    "            np.save(f'./maml_model/history_50_iter_{n_task}_tasks_2_ways_{n_shots}_shots_{i}', history)\n",
    "            result['weights'][str(i)] = new_weight\n",
    "            result['history'][str(i)] = history\n"
   ]
  },
  {
   "cell_type": "code",
   "execution_count": 10,
   "metadata": {},
   "outputs": [
    {
     "ename": "ValueError",
     "evalue": "`logits` and `labels` must have the same shape, received ((1, 2, 1, 2) vs (1, 2, 2)).",
     "output_type": "error",
     "traceback": [
      "\u001b[1;31m---------------------------------------------------------------------------\u001b[0m",
      "\u001b[1;31mValueError\u001b[0m                                Traceback (most recent call last)",
      "Cell \u001b[1;32mIn[10], line 2\u001b[0m\n\u001b[0;32m      1\u001b[0m credit_pred \u001b[39m=\u001b[39m Credit_Maml(X_train\u001b[39m.\u001b[39mvalues, y_train\u001b[39m.\u001b[39mvalues, n_meta_update \u001b[39m=\u001b[39m \u001b[39m60\u001b[39m, n_task \u001b[39m=\u001b[39m n_task, ways\u001b[39m=\u001b[39m[\u001b[39m0\u001b[39m,\u001b[39m1\u001b[39m], n_shots\u001b[39m=\u001b[39mn_shots)\n\u001b[1;32m----> 2\u001b[0m new_weight, history \u001b[39m=\u001b[39m credit_pred\u001b[39m.\u001b[39;49mtrain_step(inner_lr\u001b[39m=\u001b[39;49m\u001b[39m0.001\u001b[39;49m, outer_lr\u001b[39m=\u001b[39;49m\u001b[39m1e-4\u001b[39;49m, early_stop\u001b[39m=\u001b[39;49m\u001b[39m10\u001b[39;49m)\n",
      "Cell \u001b[1;32mIn[6], line 132\u001b[0m, in \u001b[0;36mCredit_Maml.train_step\u001b[1;34m(self, inner_lr, outer_lr, early_stop, select_model)\u001b[0m\n\u001b[0;32m    130\u001b[0m     y_pred \u001b[39m=\u001b[39m model(x)\n\u001b[0;32m    131\u001b[0m     \u001b[39m# 給定預測值(y_pred)和實際值(y)，用以計算loss\u001b[39;00m\n\u001b[1;32m--> 132\u001b[0m     loss \u001b[39m=\u001b[39m tf\u001b[39m.\u001b[39;49mkeras\u001b[39m.\u001b[39;49mlosses\u001b[39m.\u001b[39;49mBinaryCrossentropy()(y, y_pred)\n\u001b[0;32m    133\u001b[0m     \u001b[39m# val_pred = model(val_X)\u001b[39;00m\n\u001b[0;32m    135\u001b[0m grads \u001b[39m=\u001b[39m inner_tape\u001b[39m.\u001b[39mgradient(loss, model\u001b[39m.\u001b[39mtrainable_variables)\n",
      "File \u001b[1;32mc:\\Users\\2022011702\\Desktop\\Leo\\Credit Default Predict\\.conda\\lib\\site-packages\\keras\\losses.py:152\u001b[0m, in \u001b[0;36mLoss.__call__\u001b[1;34m(self, y_true, y_pred, sample_weight)\u001b[0m\n\u001b[0;32m    148\u001b[0m \u001b[39melse\u001b[39;00m:\n\u001b[0;32m    149\u001b[0m     call_fn \u001b[39m=\u001b[39m tf\u001b[39m.\u001b[39m__internal__\u001b[39m.\u001b[39mautograph\u001b[39m.\u001b[39mtf_convert(\n\u001b[0;32m    150\u001b[0m         \u001b[39mself\u001b[39m\u001b[39m.\u001b[39mcall, tf\u001b[39m.\u001b[39m__internal__\u001b[39m.\u001b[39mautograph\u001b[39m.\u001b[39mcontrol_status_ctx()\n\u001b[0;32m    151\u001b[0m     )\n\u001b[1;32m--> 152\u001b[0m losses \u001b[39m=\u001b[39m call_fn(y_true, y_pred)\n\u001b[0;32m    153\u001b[0m mask \u001b[39m=\u001b[39m losses_utils\u001b[39m.\u001b[39mget_mask(losses)\n\u001b[0;32m    154\u001b[0m reduction \u001b[39m=\u001b[39m \u001b[39mself\u001b[39m\u001b[39m.\u001b[39m_get_reduction()\n",
      "File \u001b[1;32mc:\\Users\\2022011702\\Desktop\\Leo\\Credit Default Predict\\.conda\\lib\\site-packages\\keras\\losses.py:272\u001b[0m, in \u001b[0;36mLossFunctionWrapper.call\u001b[1;34m(self, y_true, y_pred)\u001b[0m\n\u001b[0;32m    265\u001b[0m     y_pred, y_true \u001b[39m=\u001b[39m losses_utils\u001b[39m.\u001b[39msqueeze_or_expand_dimensions(\n\u001b[0;32m    266\u001b[0m         y_pred, y_true\n\u001b[0;32m    267\u001b[0m     )\n\u001b[0;32m    269\u001b[0m ag_fn \u001b[39m=\u001b[39m tf\u001b[39m.\u001b[39m__internal__\u001b[39m.\u001b[39mautograph\u001b[39m.\u001b[39mtf_convert(\n\u001b[0;32m    270\u001b[0m     \u001b[39mself\u001b[39m\u001b[39m.\u001b[39mfn, tf\u001b[39m.\u001b[39m__internal__\u001b[39m.\u001b[39mautograph\u001b[39m.\u001b[39mcontrol_status_ctx()\n\u001b[0;32m    271\u001b[0m )\n\u001b[1;32m--> 272\u001b[0m \u001b[39mreturn\u001b[39;00m ag_fn(y_true, y_pred, \u001b[39m*\u001b[39m\u001b[39m*\u001b[39m\u001b[39mself\u001b[39m\u001b[39m.\u001b[39m_fn_kwargs)\n",
      "File \u001b[1;32mc:\\Users\\2022011702\\Desktop\\Leo\\Credit Default Predict\\.conda\\lib\\site-packages\\tensorflow\\python\\util\\traceback_utils.py:153\u001b[0m, in \u001b[0;36mfilter_traceback.<locals>.error_handler\u001b[1;34m(*args, **kwargs)\u001b[0m\n\u001b[0;32m    151\u001b[0m \u001b[39mexcept\u001b[39;00m \u001b[39mException\u001b[39;00m \u001b[39mas\u001b[39;00m e:\n\u001b[0;32m    152\u001b[0m   filtered_tb \u001b[39m=\u001b[39m _process_traceback_frames(e\u001b[39m.\u001b[39m__traceback__)\n\u001b[1;32m--> 153\u001b[0m   \u001b[39mraise\u001b[39;00m e\u001b[39m.\u001b[39mwith_traceback(filtered_tb) \u001b[39mfrom\u001b[39;00m \u001b[39mNone\u001b[39m\n\u001b[0;32m    154\u001b[0m \u001b[39mfinally\u001b[39;00m:\n\u001b[0;32m    155\u001b[0m   \u001b[39mdel\u001b[39;00m filtered_tb\n",
      "File \u001b[1;32mc:\\Users\\2022011702\\Desktop\\Leo\\Credit Default Predict\\.conda\\lib\\site-packages\\keras\\losses.py:2162\u001b[0m, in \u001b[0;36mbinary_crossentropy\u001b[1;34m(y_true, y_pred, from_logits, label_smoothing, axis)\u001b[0m\n\u001b[0;32m   2155\u001b[0m     \u001b[39mreturn\u001b[39;00m y_true \u001b[39m*\u001b[39m (\u001b[39m1.0\u001b[39m \u001b[39m-\u001b[39m label_smoothing) \u001b[39m+\u001b[39m \u001b[39m0.5\u001b[39m \u001b[39m*\u001b[39m label_smoothing\n\u001b[0;32m   2157\u001b[0m y_true \u001b[39m=\u001b[39m tf\u001b[39m.\u001b[39m__internal__\u001b[39m.\u001b[39msmart_cond\u001b[39m.\u001b[39msmart_cond(\n\u001b[0;32m   2158\u001b[0m     label_smoothing, _smooth_labels, \u001b[39mlambda\u001b[39;00m: y_true\n\u001b[0;32m   2159\u001b[0m )\n\u001b[0;32m   2161\u001b[0m \u001b[39mreturn\u001b[39;00m backend\u001b[39m.\u001b[39mmean(\n\u001b[1;32m-> 2162\u001b[0m     backend\u001b[39m.\u001b[39;49mbinary_crossentropy(y_true, y_pred, from_logits\u001b[39m=\u001b[39;49mfrom_logits),\n\u001b[0;32m   2163\u001b[0m     axis\u001b[39m=\u001b[39maxis,\n\u001b[0;32m   2164\u001b[0m )\n",
      "File \u001b[1;32mc:\\Users\\2022011702\\Desktop\\Leo\\Credit Default Predict\\.conda\\lib\\site-packages\\keras\\backend.py:5677\u001b[0m, in \u001b[0;36mbinary_crossentropy\u001b[1;34m(target, output, from_logits)\u001b[0m\n\u001b[0;32m   5673\u001b[0m output, from_logits \u001b[39m=\u001b[39m _get_logits(\n\u001b[0;32m   5674\u001b[0m     output, from_logits, \u001b[39m\"\u001b[39m\u001b[39mSigmoid\u001b[39m\u001b[39m\"\u001b[39m, \u001b[39m\"\u001b[39m\u001b[39mbinary_crossentropy\u001b[39m\u001b[39m\"\u001b[39m\n\u001b[0;32m   5675\u001b[0m )\n\u001b[0;32m   5676\u001b[0m \u001b[39mif\u001b[39;00m from_logits:\n\u001b[1;32m-> 5677\u001b[0m     \u001b[39mreturn\u001b[39;00m tf\u001b[39m.\u001b[39;49mnn\u001b[39m.\u001b[39;49msigmoid_cross_entropy_with_logits(\n\u001b[0;32m   5678\u001b[0m         labels\u001b[39m=\u001b[39;49mtarget, logits\u001b[39m=\u001b[39;49moutput\n\u001b[0;32m   5679\u001b[0m     )\n\u001b[0;32m   5681\u001b[0m epsilon_ \u001b[39m=\u001b[39m _constant_to_tensor(epsilon(), output\u001b[39m.\u001b[39mdtype\u001b[39m.\u001b[39mbase_dtype)\n\u001b[0;32m   5682\u001b[0m output \u001b[39m=\u001b[39m tf\u001b[39m.\u001b[39mclip_by_value(output, epsilon_, \u001b[39m1.0\u001b[39m \u001b[39m-\u001b[39m epsilon_)\n",
      "\u001b[1;31mValueError\u001b[0m: `logits` and `labels` must have the same shape, received ((1, 2, 1, 2) vs (1, 2, 2))."
     ]
    }
   ],
   "source": [
    "credit_pred = Credit_Maml(X_train.values, y_train.values, n_meta_update = 60, n_task = n_task, ways=[0,1], n_shots=n_shots)\n",
    "new_weight, history = credit_pred.train_step(inner_lr=0.001, outer_lr=1e-4, early_stop=10)"
   ]
  },
  {
   "cell_type": "code",
   "execution_count": 14,
   "metadata": {},
   "outputs": [
    {
     "data": {
      "text/plain": [
       "((10, 2, 1, 114), (10, 2, 2))"
      ]
     },
     "execution_count": 14,
     "metadata": {},
     "output_type": "execute_result"
    }
   ],
   "source": [
    "x, y = credit_pred.generate_multiple_tasks(credit_pred.seed_series[0])\n",
    "x.shape, y.shape"
   ]
  },
  {
   "cell_type": "code",
   "execution_count": 533,
   "metadata": {},
   "outputs": [
    {
     "data": {
      "text/plain": [
       "(150, 2, 10, 11, 11)"
      ]
     },
     "execution_count": 533,
     "metadata": {},
     "output_type": "execute_result"
    }
   ],
   "source": [
    "np.random.seed(100)\n",
    "n_val = 3000\n",
    "n_ways = 2\n",
    "n_shots = 10\n",
    "val_index = np.random.choice(X_train.index, n_val)\n",
    "X_val = X_train.loc[val_index,:]\n",
    "y_val = y_train.loc[val_index]\n",
    "X_val = series_to_image(X_val.values, 11)\n",
    "# X_val = X_val.values.reshape((int(n_val/(n_ways*n_shots)), n_ways, n_shots, 114))\n",
    "X_val = X_val.reshape((int(n_val/(n_ways*n_shots)), n_ways, n_shots, 11, 11))\n",
    "y_val = y_val.values.reshape(n_val)\n",
    "# new_weight = np.load('./maml_model/maml_9.npy', allow_pickle=True)\n",
    "# pred_class = predit_classes(new_weight, X_val, n_val)\n",
    "X_val.shape\n"
   ]
  },
  {
   "cell_type": "code",
   "execution_count": 534,
   "metadata": {},
   "outputs": [
    {
     "ename": "ValueError",
     "evalue": "shapes (150,2,10,11,11) and (3,3,1,32) not aligned: 11 (dim 4) != 1 (dim 2)",
     "output_type": "error",
     "traceback": [
      "\u001b[1;31m---------------------------------------------------------------------------\u001b[0m",
      "\u001b[1;31mValueError\u001b[0m                                Traceback (most recent call last)",
      "Cell \u001b[1;32mIn[534], line 1\u001b[0m\n\u001b[1;32m----> 1\u001b[0m pred_class \u001b[39m=\u001b[39m predit_classes(new_weight, X_val, n_val)\n",
      "Cell \u001b[1;32mIn[518], line 191\u001b[0m, in \u001b[0;36mpredit_classes\u001b[1;34m(weights, X, n_data)\u001b[0m\n\u001b[0;32m    189\u001b[0m     \u001b[39mreturn\u001b[39;00m network_dot(n_layers, current_layer\u001b[39m+\u001b[39m\u001b[39m1\u001b[39m, output, weights)\n\u001b[0;32m    190\u001b[0m layers \u001b[39m=\u001b[39m (\u001b[39mlen\u001b[39m(weights)\u001b[39m/\u001b[39m\u001b[39m/\u001b[39m\u001b[39m2\u001b[39m)\u001b[39m+\u001b[39m\u001b[39m1\u001b[39m \u001b[39mif\u001b[39;00m \u001b[39mlen\u001b[39m(weights)\u001b[39m%\u001b[39m\u001b[39m2\u001b[39m\u001b[39m==\u001b[39m\u001b[39m1\u001b[39m \u001b[39melse\u001b[39;00m \u001b[39mlen\u001b[39m(weights)\u001b[39m/\u001b[39m\u001b[39m/\u001b[39m\u001b[39m2\u001b[39m\n\u001b[1;32m--> 191\u001b[0m layer_output \u001b[39m=\u001b[39m network_dot(layers, current_layer\u001b[39m=\u001b[39;49m\u001b[39m0\u001b[39;49m, X_val\u001b[39m=\u001b[39;49mX, weights\u001b[39m=\u001b[39;49mweights)\n\u001b[0;32m    192\u001b[0m pred_class \u001b[39m=\u001b[39m np\u001b[39m.\u001b[39margmax(layer_output\u001b[39m.\u001b[39mnumpy(), axis\u001b[39m=\u001b[39m\u001b[39m1\u001b[39m)\n\u001b[0;32m    193\u001b[0m pred_class \u001b[39m=\u001b[39m pred_class\u001b[39m.\u001b[39mreshape((n_data))\n",
      "Cell \u001b[1;32mIn[518], line 186\u001b[0m, in \u001b[0;36mpredit_classes.<locals>.network_dot\u001b[1;34m(n_layers, current_layer, X_val, weights)\u001b[0m\n\u001b[0;32m    185\u001b[0m \u001b[39mdef\u001b[39;00m \u001b[39mnetwork_dot\u001b[39m(n_layers, current_layer, X_val, weights):\n\u001b[1;32m--> 186\u001b[0m     output \u001b[39m=\u001b[39m np\u001b[39m.\u001b[39;49mdot(X_val, weights[\u001b[39m2\u001b[39;49m\u001b[39m*\u001b[39;49mcurrent_layer])\u001b[39m+\u001b[39mweights[\u001b[39m2\u001b[39m\u001b[39m*\u001b[39m(current_layer\u001b[39m+\u001b[39m\u001b[39m1\u001b[39m)\u001b[39m-\u001b[39m\u001b[39m1\u001b[39m]\n\u001b[0;32m    187\u001b[0m     \u001b[39mif\u001b[39;00m current_layer\u001b[39m+\u001b[39m\u001b[39m1\u001b[39m \u001b[39m==\u001b[39m n_layers:\n\u001b[0;32m    188\u001b[0m         \u001b[39mreturn\u001b[39;00m output\n",
      "File \u001b[1;32m<__array_function__ internals>:180\u001b[0m, in \u001b[0;36mdot\u001b[1;34m(*args, **kwargs)\u001b[0m\n",
      "\u001b[1;31mValueError\u001b[0m: shapes (150,2,10,11,11) and (3,3,1,32) not aligned: 11 (dim 4) != 1 (dim 2)"
     ]
    }
   ],
   "source": [
    "pred_class = predit_classes(new_weight, X_val, n_val)"
   ]
  },
  {
   "cell_type": "code",
   "execution_count": 547,
   "metadata": {},
   "outputs": [
    {
     "name": "stdout",
     "output_type": "stream",
     "text": [
      "5/5 [==============================] - 0s 41ms/step\n"
     ]
    }
   ],
   "source": [
    "np.random.seed(100)\n",
    "n_val = 3000\n",
    "n_ways = 2\n",
    "n_shots = 10\n",
    "val_index = np.random.choice(X_train.index, n_val)\n",
    "X_val = X_train.loc[val_index,:]\n",
    "y_val = y_train.loc[val_index]\n",
    "X_val = series_to_image(X_val.values, 11)\n",
    "X_val = X_val.reshape((int(n_val/(n_ways*n_shots)), n_ways, n_shots, 11, 11, 1))\n",
    "empty_model = credit_pred.CNN_model((11,11))\n",
    "empty_model.set_weights(new_weight)\n",
    "val_pred = empty_model.predict(X_val)"
   ]
  },
  {
   "cell_type": "code",
   "execution_count": 554,
   "metadata": {},
   "outputs": [
    {
     "data": {
      "text/plain": [
       "(150, 2)"
      ]
     },
     "execution_count": 554,
     "metadata": {},
     "output_type": "execute_result"
    }
   ],
   "source": [
    "val_pred.shape"
   ]
  },
  {
   "cell_type": "code",
   "execution_count": 474,
   "metadata": {},
   "outputs": [
    {
     "data": {
      "image/png": "[encoded data removed]",
      "text/plain": [
       "<Figure size 800x800 with 2 Axes>"
      ]
     },
     "metadata": {},
     "output_type": "display_data"
    }
   ],
   "source": [
    "plot_confusion_matrix(y_val, pred_class)"
   ]
  },
  {
   "cell_type": "code",
   "execution_count": 537,
   "metadata": {},
   "outputs": [
    {
     "data": {
      "text/plain": [
       "3000"
      ]
     },
     "execution_count": 537,
     "metadata": {},
     "output_type": "execute_result"
    }
   ],
   "source": [
    "len(pred_class)"
   ]
  },
  {
   "cell_type": "code",
   "execution_count": 539,
   "metadata": {},
   "outputs": [
    {
     "data": {
      "text/plain": [
       "29"
      ]
     },
     "execution_count": 539,
     "metadata": {},
     "output_type": "execute_result"
    }
   ],
   "source": [
    "len(np.where(y_val==1)[0])"
   ]
  },
  {
   "attachments": {},
   "cell_type": "markdown",
   "metadata": {},
   "source": [
    "## Loss analysis"
   ]
  },
  {
   "cell_type": "code",
   "execution_count": null,
   "metadata": {},
   "outputs": [],
   "source": [
    "# history = np.load('./maml_model/histrot_1.npy', allow_pickle=True)"
   ]
  },
  {
   "cell_type": "code",
   "execution_count": 475,
   "metadata": {},
   "outputs": [
    {
     "data": {
      "text/plain": [
       "<matplotlib.legend.Legend at 0x297c9897ee0>"
      ]
     },
     "execution_count": 475,
     "metadata": {},
     "output_type": "execute_result"
    },
    {
     "data": {
      "image/png": "[encoded data removed]",
      "text/plain": [
       "<Figure size 640x480 with 1 Axes>"
      ]
     },
     "metadata": {},
     "output_type": "display_data"
    }
   ],
   "source": [
    "plt.plot(history['loss'], label = 'train')\n",
    "plt.plot(history['val_loss'], label = 'validation')\n",
    "plt.legend(loc = 2)"
   ]
  }
 ],
 "metadata": {
  "kernelspec": {
   "display_name": "base",
   "language": "python",
   "name": "python3"
  },
  "language_info": {
   "codemirror_mode": {
    "name": "ipython",
    "version": 3
   },
   "file_extension": ".py",
   "mimetype": "text/x-python",
   "name": "python",
   "nbconvert_exporter": "python",
   "pygments_lexer": "ipython3",
   "version": "3.10.10"
  },
  "orig_nbformat": 4
 },
 "nbformat": 4,
 "nbformat_minor": 2
}
